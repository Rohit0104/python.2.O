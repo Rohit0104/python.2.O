{
 "cells": [
  {
   "cell_type": "code",
   "execution_count": 1,
   "id": "b8fcd0de",
   "metadata": {},
   "outputs": [
    {
     "name": "stdout",
     "output_type": "stream",
     "text": [
      "hello\n"
     ]
    }
   ],
   "source": [
    "print(\"hello\")"
   ]
  },
  {
   "cell_type": "code",
   "execution_count": 2,
   "id": "a7d6769f",
   "metadata": {},
   "outputs": [
    {
     "data": {
      "text/plain": [
       "'Rohit Gaikwad'"
      ]
     },
     "execution_count": 2,
     "metadata": {},
     "output_type": "execute_result"
    }
   ],
   "source": [
    "Name = \"Rohit Gaikwad\"\n",
    "Name\n"
   ]
  },
  {
   "cell_type": "code",
   "execution_count": 4,
   "id": "13ef0868",
   "metadata": {},
   "outputs": [
    {
     "name": "stdout",
     "output_type": "stream",
     "text": [
      "Trainer name is: Rohit Gaikwad\n"
     ]
    }
   ],
   "source": [
    "print(\"Trainer name is:\", Name)"
   ]
  },
  {
   "cell_type": "code",
   "execution_count": 5,
   "id": "4f5526ed",
   "metadata": {},
   "outputs": [
    {
     "name": "stdout",
     "output_type": "stream",
     "text": [
      "Trainer name is Rohit gaikwad and he is 40 years old\n"
     ]
    }
   ],
   "source": [
    "Name =\"Rohit gaikwad\"\n",
    "age = 40\n",
    "city = \"Mumbai\"\n",
    "print(\"Trainer name is\", Name, \"and he is\", age , \"years old\")"
   ]
  },
  {
   "cell_type": "code",
   "execution_count": 7,
   "id": "90bf3751",
   "metadata": {},
   "outputs": [
    {
     "name": "stdout",
     "output_type": "stream",
     "text": [
      "Trainer name is  Rohit gaikwad and he is 40 years old and he is from Mumbai\n"
     ]
    }
   ],
   "source": [
    "print(\"Trainer name is  {} and he is {} years old and he is from {}\".format(Name,age,city))"
   ]
  },
  {
   "cell_type": "code",
   "execution_count": 8,
   "id": "dfb8188b",
   "metadata": {},
   "outputs": [
    {
     "name": "stdout",
     "output_type": "stream",
     "text": [
      "Trainer name is Rohit gaikwad and he is 40 years old and he is from Mumbai\n"
     ]
    }
   ],
   "source": [
    "print(\"Trainer name is {2} and he is {0} years old and he is from {1}\".format(age,city,Name))"
   ]
  },
  {
   "cell_type": "code",
   "execution_count": 9,
   "id": "8d96706c",
   "metadata": {},
   "outputs": [
    {
     "name": "stdout",
     "output_type": "stream",
     "text": [
      "the product's price is : 565.659\n"
     ]
    }
   ],
   "source": [
    "price = 565.6587432\n",
    "print(\"the product's price is : {0:.3f}\".format(price))"
   ]
  },
  {
   "cell_type": "code",
   "execution_count": 11,
   "id": "27bf416d",
   "metadata": {},
   "outputs": [
    {
     "data": {
      "text/plain": [
       "565.66"
      ]
     },
     "execution_count": 11,
     "metadata": {},
     "output_type": "execute_result"
    }
   ],
   "source": [
    "round(price,2)"
   ]
  },
  {
   "cell_type": "code",
   "execution_count": 12,
   "id": "c2f7810e",
   "metadata": {},
   "outputs": [],
   "source": [
    "# input function"
   ]
  },
  {
   "cell_type": "code",
   "execution_count": 14,
   "id": "f560d1db",
   "metadata": {},
   "outputs": [
    {
     "name": "stdout",
     "output_type": "stream",
     "text": [
      "Enter your NameRohit\n",
      "Enter your age:40\n",
      "The type of name is : <class 'str'>\n",
      "The type of age is : <class 'int'>\n",
      "Age is: 41\n"
     ]
    }
   ],
   "source": [
    "name = input(\"Enter your Name\")\n",
    "age = int(input(\"Enter your age:\"))\n",
    "age = age+1\n",
    "print(\"The type of name is :\",type(name))\n",
    "print(\"The type of age is :\", type(age))\n",
    "print(\"Age is:\", age)"
   ]
  },
  {
   "cell_type": "code",
   "execution_count": 15,
   "id": "5e090089",
   "metadata": {},
   "outputs": [],
   "source": [
    "#range function"
   ]
  },
  {
   "cell_type": "code",
   "execution_count": 19,
   "id": "3b603b15",
   "metadata": {},
   "outputs": [
    {
     "name": "stdout",
     "output_type": "stream",
     "text": [
      "1 2 3 4 5 6 7 8 9 10 11 12 13 14 15 16 17 18 19 20 21 22 23 24 25 26 27 28 29 30 31 32 33 34 35 36 37 38 39 40 41 42 43 44 45 46 47 48 49 50 51 52 53 54 55 56 57 58 59 60 61 62 63 64 65 66 67 68 69 70 71 72 73 74 75 76 77 78 79 80 81 82 83 84 85 86 87 88 89 90 91 92 93 94 95 96 97 98 99 100 "
     ]
    }
   ],
   "source": [
    "for x in range(1,101):\n",
    "    print(x,end = \" \")"
   ]
  },
  {
   "cell_type": "code",
   "execution_count": 20,
   "id": "22e414b7",
   "metadata": {},
   "outputs": [
    {
     "name": "stdout",
     "output_type": "stream",
     "text": [
      "1 3 5 7 9 11 13 15 17 19 21 23 25 27 29 31 33 35 37 39 41 43 45 47 49 51 53 55 57 59 61 63 65 67 69 71 73 75 77 79 81 83 85 87 89 91 93 95 97 99 "
     ]
    }
   ],
   "source": [
    "for x in range(1,101,2):\n",
    "    print(x,end=\" \")"
   ]
  },
  {
   "cell_type": "code",
   "execution_count": 21,
   "id": "9e0549d4",
   "metadata": {},
   "outputs": [],
   "source": [
    "#loops "
   ]
  },
  {
   "cell_type": "code",
   "execution_count": 22,
   "id": "443e19d8",
   "metadata": {},
   "outputs": [
    {
     "data": {
      "text/plain": [
       "'\\nwhile\\nfor\\n'"
      ]
     },
     "execution_count": 22,
     "metadata": {},
     "output_type": "execute_result"
    }
   ],
   "source": [
    "'''\n",
    "while\n",
    "for\n",
    "'''"
   ]
  },
  {
   "cell_type": "code",
   "execution_count": 24,
   "id": "058f1ffa",
   "metadata": {},
   "outputs": [
    {
     "name": "stdout",
     "output_type": "stream",
     "text": [
      "1\n",
      "2\n",
      "3\n",
      "4\n",
      "5\n",
      "6\n",
      "7\n",
      "8\n",
      "9\n",
      "the value of the x is : 10\n"
     ]
    }
   ],
   "source": [
    "x=1\n",
    "while x<10:\n",
    "    print(x)\n",
    "    x=x+1\n",
    "else:\n",
    "    print(\"the value of the x is :\", x)"
   ]
  },
  {
   "cell_type": "code",
   "execution_count": 25,
   "id": "1f6956cc",
   "metadata": {},
   "outputs": [],
   "source": [
    "info=['Rohit','Data analyst','Python',2022]"
   ]
  },
  {
   "cell_type": "code",
   "execution_count": 26,
   "id": "450ff104",
   "metadata": {},
   "outputs": [
    {
     "name": "stdout",
     "output_type": "stream",
     "text": [
      "Rohit\n",
      "Data analyst\n",
      "Python\n",
      "2022\n"
     ]
    }
   ],
   "source": [
    "for x in info:\n",
    "    print(x)"
   ]
  },
  {
   "cell_type": "code",
   "execution_count": 27,
   "id": "3476f1f2",
   "metadata": {},
   "outputs": [
    {
     "name": "stdout",
     "output_type": "stream",
     "text": [
      "1 2 3 4 5 6 7 8 9 10 \n",
      " 11 12 13 14 15 16 17 18 19 20 21 \n",
      " 22 23 24 25 26 27 28 29 30 31 32 \n",
      " 33 34 35 36 37 38 39 40 41 42 43 \n",
      " 44 45 46 47 48 49 50 51 52 53 54 \n",
      " 55 56 57 58 59 60 61 62 63 64 65 \n",
      " 66 67 68 69 70 71 72 73 74 75 76 \n",
      " 77 78 79 80 81 82 83 84 85 86 87 \n",
      " 88 89 90 91 92 93 94 95 96 97 98 \n",
      " 99 100 "
     ]
    }
   ],
   "source": [
    "i = 1\n",
    "for x in range(1,101):\n",
    "    if i<=10:\n",
    "        print(x,end=\" \")\n",
    "        i=i+1\n",
    "    else:\n",
    "        print('\\n',x,end=\" \")\n",
    "        i =1"
   ]
  },
  {
   "cell_type": "code",
   "execution_count": 28,
   "id": "5fa3bfec",
   "metadata": {},
   "outputs": [],
   "source": [
    "# flow control statements"
   ]
  },
  {
   "cell_type": "code",
   "execution_count": 29,
   "id": "28f65a2c",
   "metadata": {},
   "outputs": [
    {
     "data": {
      "text/plain": [
       "'\\nbreak\\ncontinue\\n'"
      ]
     },
     "execution_count": 29,
     "metadata": {},
     "output_type": "execute_result"
    }
   ],
   "source": [
    "'''\n",
    "break\n",
    "continue\n",
    "'''"
   ]
  },
  {
   "cell_type": "code",
   "execution_count": 30,
   "id": "68b8b3f2",
   "metadata": {},
   "outputs": [
    {
     "name": "stdout",
     "output_type": "stream",
     "text": [
      "1\n",
      "2\n",
      "3\n",
      "4\n",
      "this is the next line to the loop\n",
      "thanx\n"
     ]
    }
   ],
   "source": [
    "x = 1\n",
    "while x <=10:\n",
    "    if x ==5:\n",
    "        break\n",
    "    print(x)\n",
    "    x=x+1\n",
    "print(\"this is the next line to the loop\")\n",
    "print(\"thanx\")"
   ]
  },
  {
   "cell_type": "code",
   "execution_count": 32,
   "id": "0621ede2",
   "metadata": {},
   "outputs": [
    {
     "name": "stdout",
     "output_type": "stream",
     "text": [
      "1\n",
      "2\n",
      "3\n",
      "4\n",
      "6\n",
      "7\n",
      "8\n",
      "9\n",
      "10\n",
      "11\n",
      "this is the next line to the loop\n",
      "thanx\n"
     ]
    }
   ],
   "source": [
    "x=0\n",
    "while x<=10:\n",
    "    x=x+1\n",
    "    if x==5:\n",
    "        continue\n",
    "    print(x)\n",
    "print(\"this is the next line to the loop\")\n",
    "print(\"thanx\")"
   ]
  },
  {
   "cell_type": "code",
   "execution_count": 33,
   "id": "05dc47b4",
   "metadata": {},
   "outputs": [
    {
     "data": {
      "text/plain": [
       "11"
      ]
     },
     "execution_count": 33,
     "metadata": {},
     "output_type": "execute_result"
    }
   ],
   "source": [
    "5+6"
   ]
  },
  {
   "cell_type": "code",
   "execution_count": 34,
   "id": "b484da09",
   "metadata": {},
   "outputs": [
    {
     "data": {
      "text/plain": [
       "-1"
      ]
     },
     "execution_count": 34,
     "metadata": {},
     "output_type": "execute_result"
    }
   ],
   "source": [
    "5-6"
   ]
  },
  {
   "cell_type": "code",
   "execution_count": 35,
   "id": "d573f8a2",
   "metadata": {},
   "outputs": [
    {
     "data": {
      "text/plain": [
       "8"
      ]
     },
     "execution_count": 35,
     "metadata": {},
     "output_type": "execute_result"
    }
   ],
   "source": [
    "2**3"
   ]
  },
  {
   "cell_type": "code",
   "execution_count": 36,
   "id": "889f2997",
   "metadata": {},
   "outputs": [
    {
     "data": {
      "text/plain": [
       "1"
      ]
     },
     "execution_count": 36,
     "metadata": {},
     "output_type": "execute_result"
    }
   ],
   "source": [
    "11%2"
   ]
  },
  {
   "cell_type": "code",
   "execution_count": 37,
   "id": "99f26e99",
   "metadata": {},
   "outputs": [
    {
     "data": {
      "text/plain": [
       "5.5"
      ]
     },
     "execution_count": 37,
     "metadata": {},
     "output_type": "execute_result"
    }
   ],
   "source": [
    "11/2"
   ]
  },
  {
   "cell_type": "code",
   "execution_count": 38,
   "id": "cb39a17b",
   "metadata": {},
   "outputs": [
    {
     "data": {
      "text/plain": [
       "5"
      ]
     },
     "execution_count": 38,
     "metadata": {},
     "output_type": "execute_result"
    }
   ],
   "source": [
    "11//2"
   ]
  },
  {
   "cell_type": "code",
   "execution_count": null,
   "id": "db1845e1",
   "metadata": {},
   "outputs": [],
   "source": []
  }
 ],
 "metadata": {
  "kernelspec": {
   "display_name": "Python 3 (ipykernel)",
   "language": "python",
   "name": "python3"
  },
  "language_info": {
   "codemirror_mode": {
    "name": "ipython",
    "version": 3
   },
   "file_extension": ".py",
   "mimetype": "text/x-python",
   "name": "python",
   "nbconvert_exporter": "python",
   "pygments_lexer": "ipython3",
   "version": "3.9.7"
  }
 },
 "nbformat": 4,
 "nbformat_minor": 5
}
